{
 "cells": [
  {
   "cell_type": "markdown",
   "metadata": {},
   "source": [
    "\n",
    "# Project: Investigate a Dataset (Factors of No-show in medical scheduled appointments)\n",
    "\n",
    "Bashayer Alshehri (3 May, 2020)\n",
    "\n",
    "## Table of Contents\n",
    "<ul>\n",
    "<li><a href=\"#intro\">Introduction</a></li>\n",
    "<li><a href=\"#wrangling\">Data Wrangling</a></li>\n",
    "<li><a href=\"#eda\">Exploring Data</a></li>\n",
    "<li><a href=\"#Questions\">Questions</a></li>    \n",
    "<li><a href=\"#conclusions\">Conclusions</a></li>\n",
    "</ul>"
   ]
  },
  {
   "cell_type": "markdown",
   "metadata": {},
   "source": [
    "<a id='intro'></a>\n",
    "## Introduction\n",
    "\n",
    "In this project, I aim to investigate the factors that affect the medical scheduled appointments attendance in Brazil. The Dataset that I'm trying to explore and investigate includes some features about patients plus whether the patient shows up to the appointments or not.The Data analysis in this project is an attempt to highlight some Trends that may or may not cause patients to attend.\n",
    "\n",
    "You can find the original problem and the Dataset from here : https://www.kaggle.com/joniarroba/noshowappointments\n"
   ]
  },
  {
   "cell_type": "code",
   "execution_count": 1,
   "metadata": {},
   "outputs": [],
   "source": [
    "# import some important library for Data Analysis\n",
    "import numpy as np\n",
    "import pandas as pd\n",
    "import matplotlib.pyplot as plt\n",
    "import seaborn as sns\n",
    "\n",
    "%matplotlib inline\n"
   ]
  },
  {
   "cell_type": "markdown",
   "metadata": {},
   "source": [
    "<a id='wrangling'></a>\n",
    "## Data Wrangling\n"
   ]
  },
  {
   "cell_type": "code",
   "execution_count": 2,
   "metadata": {
    "scrolled": true
   },
   "outputs": [
    {
     "data": {
      "text/html": [
       "<div>\n",
       "<style scoped>\n",
       "    .dataframe tbody tr th:only-of-type {\n",
       "        vertical-align: middle;\n",
       "    }\n",
       "\n",
       "    .dataframe tbody tr th {\n",
       "        vertical-align: top;\n",
       "    }\n",
       "\n",
       "    .dataframe thead th {\n",
       "        text-align: right;\n",
       "    }\n",
       "</style>\n",
       "<table border=\"1\" class=\"dataframe\">\n",
       "  <thead>\n",
       "    <tr style=\"text-align: right;\">\n",
       "      <th></th>\n",
       "      <th>PatientId</th>\n",
       "      <th>AppointmentID</th>\n",
       "      <th>Gender</th>\n",
       "      <th>ScheduledDay</th>\n",
       "      <th>AppointmentDay</th>\n",
       "      <th>Age</th>\n",
       "      <th>Neighbourhood</th>\n",
       "      <th>Scholarship</th>\n",
       "      <th>Hipertension</th>\n",
       "      <th>Diabetes</th>\n",
       "      <th>Alcoholism</th>\n",
       "      <th>Handcap</th>\n",
       "      <th>SMS_received</th>\n",
       "      <th>No-show</th>\n",
       "    </tr>\n",
       "  </thead>\n",
       "  <tbody>\n",
       "    <tr>\n",
       "      <th>0</th>\n",
       "      <td>2.987250e+13</td>\n",
       "      <td>5642903</td>\n",
       "      <td>F</td>\n",
       "      <td>2016-04-29T18:38:08Z</td>\n",
       "      <td>2016-04-29T00:00:00Z</td>\n",
       "      <td>62</td>\n",
       "      <td>JARDIM DA PENHA</td>\n",
       "      <td>0</td>\n",
       "      <td>1</td>\n",
       "      <td>0</td>\n",
       "      <td>0</td>\n",
       "      <td>0</td>\n",
       "      <td>0</td>\n",
       "      <td>No</td>\n",
       "    </tr>\n",
       "    <tr>\n",
       "      <th>1</th>\n",
       "      <td>5.589978e+14</td>\n",
       "      <td>5642503</td>\n",
       "      <td>M</td>\n",
       "      <td>2016-04-29T16:08:27Z</td>\n",
       "      <td>2016-04-29T00:00:00Z</td>\n",
       "      <td>56</td>\n",
       "      <td>JARDIM DA PENHA</td>\n",
       "      <td>0</td>\n",
       "      <td>0</td>\n",
       "      <td>0</td>\n",
       "      <td>0</td>\n",
       "      <td>0</td>\n",
       "      <td>0</td>\n",
       "      <td>No</td>\n",
       "    </tr>\n",
       "    <tr>\n",
       "      <th>2</th>\n",
       "      <td>4.262962e+12</td>\n",
       "      <td>5642549</td>\n",
       "      <td>F</td>\n",
       "      <td>2016-04-29T16:19:04Z</td>\n",
       "      <td>2016-04-29T00:00:00Z</td>\n",
       "      <td>62</td>\n",
       "      <td>MATA DA PRAIA</td>\n",
       "      <td>0</td>\n",
       "      <td>0</td>\n",
       "      <td>0</td>\n",
       "      <td>0</td>\n",
       "      <td>0</td>\n",
       "      <td>0</td>\n",
       "      <td>No</td>\n",
       "    </tr>\n",
       "    <tr>\n",
       "      <th>3</th>\n",
       "      <td>8.679512e+11</td>\n",
       "      <td>5642828</td>\n",
       "      <td>F</td>\n",
       "      <td>2016-04-29T17:29:31Z</td>\n",
       "      <td>2016-04-29T00:00:00Z</td>\n",
       "      <td>8</td>\n",
       "      <td>PONTAL DE CAMBURI</td>\n",
       "      <td>0</td>\n",
       "      <td>0</td>\n",
       "      <td>0</td>\n",
       "      <td>0</td>\n",
       "      <td>0</td>\n",
       "      <td>0</td>\n",
       "      <td>No</td>\n",
       "    </tr>\n",
       "    <tr>\n",
       "      <th>4</th>\n",
       "      <td>8.841186e+12</td>\n",
       "      <td>5642494</td>\n",
       "      <td>F</td>\n",
       "      <td>2016-04-29T16:07:23Z</td>\n",
       "      <td>2016-04-29T00:00:00Z</td>\n",
       "      <td>56</td>\n",
       "      <td>JARDIM DA PENHA</td>\n",
       "      <td>0</td>\n",
       "      <td>1</td>\n",
       "      <td>1</td>\n",
       "      <td>0</td>\n",
       "      <td>0</td>\n",
       "      <td>0</td>\n",
       "      <td>No</td>\n",
       "    </tr>\n",
       "  </tbody>\n",
       "</table>\n",
       "</div>"
      ],
      "text/plain": [
       "      PatientId  AppointmentID Gender          ScheduledDay  \\\n",
       "0  2.987250e+13        5642903      F  2016-04-29T18:38:08Z   \n",
       "1  5.589978e+14        5642503      M  2016-04-29T16:08:27Z   \n",
       "2  4.262962e+12        5642549      F  2016-04-29T16:19:04Z   \n",
       "3  8.679512e+11        5642828      F  2016-04-29T17:29:31Z   \n",
       "4  8.841186e+12        5642494      F  2016-04-29T16:07:23Z   \n",
       "\n",
       "         AppointmentDay  Age      Neighbourhood  Scholarship  Hipertension  \\\n",
       "0  2016-04-29T00:00:00Z   62    JARDIM DA PENHA            0             1   \n",
       "1  2016-04-29T00:00:00Z   56    JARDIM DA PENHA            0             0   \n",
       "2  2016-04-29T00:00:00Z   62      MATA DA PRAIA            0             0   \n",
       "3  2016-04-29T00:00:00Z    8  PONTAL DE CAMBURI            0             0   \n",
       "4  2016-04-29T00:00:00Z   56    JARDIM DA PENHA            0             1   \n",
       "\n",
       "   Diabetes  Alcoholism  Handcap  SMS_received No-show  \n",
       "0         0           0        0             0      No  \n",
       "1         0           0        0             0      No  \n",
       "2         0           0        0             0      No  \n",
       "3         0           0        0             0      No  \n",
       "4         1           0        0             0      No  "
      ]
     },
     "execution_count": 2,
     "metadata": {},
     "output_type": "execute_result"
    }
   ],
   "source": [
    "#load the dataset to a dataframe\n",
    "df_showUp = pd.read_csv('noshowappointments-kagglev2-may-2016.csv')\n",
    "\n",
    "#an overview of the data\n",
    "df_showUp.head()"
   ]
  },
  {
   "cell_type": "markdown",
   "metadata": {},
   "source": [
    "it seems that there's no time defined in Appointment Day, all the records have (00:00:00) as time,We cannot analyze whether time is one of the factors affecting patient show up."
   ]
  },
  {
   "cell_type": "code",
   "execution_count": 3,
   "metadata": {},
   "outputs": [
    {
     "data": {
      "text/plain": [
       "(110527, 14)"
      ]
     },
     "execution_count": 3,
     "metadata": {},
     "output_type": "execute_result"
    }
   ],
   "source": [
    "#Learn the shape of the dataset\n",
    "df_showUp.shape"
   ]
  },
  {
   "cell_type": "markdown",
   "metadata": {},
   "source": [
    "In this Dataset there are about 110527 records (Rows) and 14 Features (Columns)"
   ]
  },
  {
   "cell_type": "code",
   "execution_count": 4,
   "metadata": {},
   "outputs": [
    {
     "data": {
      "text/plain": [
       "PatientId         float64\n",
       "AppointmentID       int64\n",
       "Gender             object\n",
       "ScheduledDay       object\n",
       "AppointmentDay     object\n",
       "Age                 int64\n",
       "Neighbourhood      object\n",
       "Scholarship         int64\n",
       "Hipertension        int64\n",
       "Diabetes            int64\n",
       "Alcoholism          int64\n",
       "Handcap             int64\n",
       "SMS_received        int64\n",
       "No-show            object\n",
       "dtype: object"
      ]
     },
     "execution_count": 4,
     "metadata": {},
     "output_type": "execute_result"
    }
   ],
   "source": [
    "##Learn the Features and its Data Type.\n",
    "df_showUp.dtypes"
   ]
  },
  {
   "cell_type": "markdown",
   "metadata": {},
   "source": [
    "- The PatientId of type 'float', should be of type 'String'.\n",
    "- The ScheduledDay and AppointmentDay are of type 'String', should be 'Date'."
   ]
  },
  {
   "cell_type": "code",
   "execution_count": 5,
   "metadata": {},
   "outputs": [
    {
     "name": "stdout",
     "output_type": "stream",
     "text": [
      "<class 'pandas.core.frame.DataFrame'>\n",
      "RangeIndex: 110527 entries, 0 to 110526\n",
      "Data columns (total 14 columns):\n",
      " #   Column          Non-Null Count   Dtype  \n",
      "---  ------          --------------   -----  \n",
      " 0   PatientId       110527 non-null  float64\n",
      " 1   AppointmentID   110527 non-null  int64  \n",
      " 2   Gender          110527 non-null  object \n",
      " 3   ScheduledDay    110527 non-null  object \n",
      " 4   AppointmentDay  110527 non-null  object \n",
      " 5   Age             110527 non-null  int64  \n",
      " 6   Neighbourhood   110527 non-null  object \n",
      " 7   Scholarship     110527 non-null  int64  \n",
      " 8   Hipertension    110527 non-null  int64  \n",
      " 9   Diabetes        110527 non-null  int64  \n",
      " 10  Alcoholism      110527 non-null  int64  \n",
      " 11  Handcap         110527 non-null  int64  \n",
      " 12  SMS_received    110527 non-null  int64  \n",
      " 13  No-show         110527 non-null  object \n",
      "dtypes: float64(1), int64(8), object(5)\n",
      "memory usage: 11.8+ MB\n"
     ]
    }
   ],
   "source": [
    "#Learn about how much missing value in each Feature\n",
    "df_showUp.info()"
   ]
  },
  {
   "cell_type": "markdown",
   "metadata": {},
   "source": [
    "There's no missing values in the Features."
   ]
  },
  {
   "cell_type": "code",
   "execution_count": 6,
   "metadata": {},
   "outputs": [],
   "source": [
    "# Convert PatientId from type 'float' to be of type 'String'.\n",
    "df_showUp['PatientId']=df_showUp['PatientId'].astype(str)"
   ]
  },
  {
   "cell_type": "code",
   "execution_count": 7,
   "metadata": {},
   "outputs": [],
   "source": [
    "# Convert ScheduledDay and AppointmentDay from type 'String' to be of type 'Date'.\n",
    "df_showUp['ScheduledDay']=df_showUp['ScheduledDay'].astype('datetime64[ns]')\n",
    "df_showUp['ScheduledDay']=df_showUp['ScheduledDay'].dt.normalize()\n",
    "df_showUp['AppointmentDay']=df_showUp['AppointmentDay'].astype('datetime64[ns]')"
   ]
  },
  {
   "cell_type": "code",
   "execution_count": 8,
   "metadata": {},
   "outputs": [
    {
     "name": "stdout",
     "output_type": "stream",
     "text": [
      "<class 'pandas.core.frame.DataFrame'>\n",
      "RangeIndex: 110527 entries, 0 to 110526\n",
      "Data columns (total 14 columns):\n",
      " #   Column          Non-Null Count   Dtype         \n",
      "---  ------          --------------   -----         \n",
      " 0   PatientId       110527 non-null  object        \n",
      " 1   AppointmentID   110527 non-null  int64         \n",
      " 2   Gender          110527 non-null  object        \n",
      " 3   ScheduledDay    110527 non-null  datetime64[ns]\n",
      " 4   AppointmentDay  110527 non-null  datetime64[ns]\n",
      " 5   Age             110527 non-null  int64         \n",
      " 6   Neighbourhood   110527 non-null  object        \n",
      " 7   Scholarship     110527 non-null  int64         \n",
      " 8   Hipertension    110527 non-null  int64         \n",
      " 9   Diabetes        110527 non-null  int64         \n",
      " 10  Alcoholism      110527 non-null  int64         \n",
      " 11  Handcap         110527 non-null  int64         \n",
      " 12  SMS_received    110527 non-null  int64         \n",
      " 13  No-show         110527 non-null  object        \n",
      "dtypes: datetime64[ns](2), int64(8), object(4)\n",
      "memory usage: 11.8+ MB\n"
     ]
    }
   ],
   "source": [
    "#Ensure that the data type has been fixed\n",
    "df_showUp.info()"
   ]
  },
  {
   "cell_type": "markdown",
   "metadata": {},
   "source": [
    "The Datatypes are fixed ..."
   ]
  },
  {
   "cell_type": "code",
   "execution_count": 9,
   "metadata": {},
   "outputs": [
    {
     "data": {
      "text/plain": [
       "array(['29872499824296.0', '558997776694438.0', '4262962299951.0', ...,\n",
       "       '72633149253362.0', '996997666245785.0', '15576631729893.0'],\n",
       "      dtype=object)"
      ]
     },
     "execution_count": 9,
     "metadata": {},
     "output_type": "execute_result"
    }
   ],
   "source": [
    "#check the unique values to explore the wrong value.\n",
    "df_showUp['PatientId'].unique()"
   ]
  },
  {
   "cell_type": "markdown",
   "metadata": {},
   "source": [
    "I need to subtract the last two characters, it's coming from converting the PatientId to 'String' DataType."
   ]
  },
  {
   "cell_type": "code",
   "execution_count": 10,
   "metadata": {},
   "outputs": [],
   "source": [
    "#subtract the last two character from PatientId\n",
    "df_showUp['PatientId']=df_showUp['PatientId'].str[:-2]"
   ]
  },
  {
   "cell_type": "code",
   "execution_count": 11,
   "metadata": {},
   "outputs": [
    {
     "data": {
      "text/plain": [
       "array([5642903, 5642503, 5642549, ..., 5630692, 5630323, 5629448],\n",
       "      dtype=int64)"
      ]
     },
     "execution_count": 11,
     "metadata": {},
     "output_type": "execute_result"
    }
   ],
   "source": [
    "#check the unique values to explore the wrong value.\n",
    "df_showUp['AppointmentID'].unique()"
   ]
  },
  {
   "cell_type": "code",
   "execution_count": 12,
   "metadata": {},
   "outputs": [
    {
     "data": {
      "text/plain": [
       "array(['F', 'M'], dtype=object)"
      ]
     },
     "execution_count": 12,
     "metadata": {},
     "output_type": "execute_result"
    }
   ],
   "source": [
    "#check the unique values to explore the wrong value.\n",
    "df_showUp['Gender'].unique()"
   ]
  },
  {
   "cell_type": "code",
   "execution_count": 13,
   "metadata": {},
   "outputs": [
    {
     "data": {
      "text/plain": [
       "array(['2016-04-29T00:00:00.000000000', '2016-04-27T00:00:00.000000000',\n",
       "       '2016-04-26T00:00:00.000000000', '2016-04-28T00:00:00.000000000',\n",
       "       '2016-04-25T00:00:00.000000000', '2016-04-20T00:00:00.000000000',\n",
       "       '2016-03-31T00:00:00.000000000', '2016-04-19T00:00:00.000000000',\n",
       "       '2016-04-06T00:00:00.000000000', '2016-04-18T00:00:00.000000000',\n",
       "       '2016-04-11T00:00:00.000000000', '2016-04-12T00:00:00.000000000',\n",
       "       '2016-04-15T00:00:00.000000000', '2016-04-01T00:00:00.000000000',\n",
       "       '2016-04-05T00:00:00.000000000', '2016-04-08T00:00:00.000000000',\n",
       "       '2016-04-14T00:00:00.000000000', '2016-04-13T00:00:00.000000000',\n",
       "       '2016-04-07T00:00:00.000000000', '2016-03-17T00:00:00.000000000',\n",
       "       '2016-03-30T00:00:00.000000000', '2016-03-29T00:00:00.000000000',\n",
       "       '2016-03-18T00:00:00.000000000', '2016-03-28T00:00:00.000000000',\n",
       "       '2016-03-04T00:00:00.000000000', '2016-03-15T00:00:00.000000000',\n",
       "       '2016-03-14T00:00:00.000000000', '2016-03-21T00:00:00.000000000',\n",
       "       '2016-03-23T00:00:00.000000000', '2016-03-22T00:00:00.000000000',\n",
       "       '2016-03-16T00:00:00.000000000', '2016-03-10T00:00:00.000000000',\n",
       "       '2016-02-29T00:00:00.000000000', '2016-03-08T00:00:00.000000000',\n",
       "       '2016-03-07T00:00:00.000000000', '2016-02-24T00:00:00.000000000',\n",
       "       '2016-02-22T00:00:00.000000000', '2016-01-29T00:00:00.000000000',\n",
       "       '2016-02-23T00:00:00.000000000', '2016-02-05T00:00:00.000000000',\n",
       "       '2016-02-11T00:00:00.000000000', '2016-02-02T00:00:00.000000000',\n",
       "       '2016-01-05T00:00:00.000000000', '2016-01-11T00:00:00.000000000',\n",
       "       '2016-02-26T00:00:00.000000000', '2016-02-19T00:00:00.000000000',\n",
       "       '2016-02-17T00:00:00.000000000', '2016-03-03T00:00:00.000000000',\n",
       "       '2016-03-02T00:00:00.000000000', '2016-03-09T00:00:00.000000000',\n",
       "       '2016-03-01T00:00:00.000000000', '2016-03-19T00:00:00.000000000',\n",
       "       '2016-03-11T00:00:00.000000000', '2016-02-16T00:00:00.000000000',\n",
       "       '2016-02-25T00:00:00.000000000', '2016-04-09T00:00:00.000000000',\n",
       "       '2016-05-24T00:00:00.000000000', '2016-05-25T00:00:00.000000000',\n",
       "       '2016-05-31T00:00:00.000000000', '2016-05-17T00:00:00.000000000',\n",
       "       '2016-05-30T00:00:00.000000000', '2016-05-12T00:00:00.000000000',\n",
       "       '2016-05-19T00:00:00.000000000', '2016-05-10T00:00:00.000000000',\n",
       "       '2016-05-02T00:00:00.000000000', '2016-05-16T00:00:00.000000000',\n",
       "       '2016-05-04T00:00:00.000000000', '2016-05-13T00:00:00.000000000',\n",
       "       '2016-05-20T00:00:00.000000000', '2016-05-05T00:00:00.000000000',\n",
       "       '2016-05-18T00:00:00.000000000', '2016-05-06T00:00:00.000000000',\n",
       "       '2016-05-09T00:00:00.000000000', '2016-05-03T00:00:00.000000000',\n",
       "       '2016-05-11T00:00:00.000000000', '2015-11-10T00:00:00.000000000',\n",
       "       '2016-02-18T00:00:00.000000000', '2016-02-03T00:00:00.000000000',\n",
       "       '2016-01-14T00:00:00.000000000', '2016-01-21T00:00:00.000000000',\n",
       "       '2016-01-28T00:00:00.000000000', '2016-02-01T00:00:00.000000000',\n",
       "       '2015-12-14T00:00:00.000000000', '2015-12-08T00:00:00.000000000',\n",
       "       '2016-01-07T00:00:00.000000000', '2016-04-30T00:00:00.000000000',\n",
       "       '2016-04-16T00:00:00.000000000', '2016-02-04T00:00:00.000000000',\n",
       "       '2015-12-03T00:00:00.000000000', '2016-01-04T00:00:00.000000000',\n",
       "       '2016-01-13T00:00:00.000000000', '2016-02-12T00:00:00.000000000',\n",
       "       '2016-01-20T00:00:00.000000000', '2016-01-22T00:00:00.000000000',\n",
       "       '2016-01-25T00:00:00.000000000', '2016-01-27T00:00:00.000000000',\n",
       "       '2016-01-19T00:00:00.000000000', '2016-02-15T00:00:00.000000000',\n",
       "       '2016-05-14T00:00:00.000000000', '2016-05-07T00:00:00.000000000',\n",
       "       '2016-06-02T00:00:00.000000000', '2016-06-03T00:00:00.000000000',\n",
       "       '2016-06-01T00:00:00.000000000', '2016-06-06T00:00:00.000000000',\n",
       "       '2016-06-07T00:00:00.000000000', '2016-06-08T00:00:00.000000000',\n",
       "       '2016-06-04T00:00:00.000000000', '2016-01-26T00:00:00.000000000',\n",
       "       '2015-12-07T00:00:00.000000000', '2015-12-15T00:00:00.000000000',\n",
       "       '2016-03-05T00:00:00.000000000'], dtype='datetime64[ns]')"
      ]
     },
     "execution_count": 13,
     "metadata": {},
     "output_type": "execute_result"
    }
   ],
   "source": [
    "#check the unique values to explore the wrong value.\n",
    "df_showUp['ScheduledDay'].unique()"
   ]
  },
  {
   "cell_type": "code",
   "execution_count": 14,
   "metadata": {},
   "outputs": [
    {
     "data": {
      "text/plain": [
       "array(['2016-04-29T00:00:00.000000000', '2016-05-03T00:00:00.000000000',\n",
       "       '2016-05-10T00:00:00.000000000', '2016-05-17T00:00:00.000000000',\n",
       "       '2016-05-24T00:00:00.000000000', '2016-05-31T00:00:00.000000000',\n",
       "       '2016-05-02T00:00:00.000000000', '2016-05-30T00:00:00.000000000',\n",
       "       '2016-05-16T00:00:00.000000000', '2016-05-04T00:00:00.000000000',\n",
       "       '2016-05-19T00:00:00.000000000', '2016-05-12T00:00:00.000000000',\n",
       "       '2016-05-06T00:00:00.000000000', '2016-05-20T00:00:00.000000000',\n",
       "       '2016-05-05T00:00:00.000000000', '2016-05-13T00:00:00.000000000',\n",
       "       '2016-05-09T00:00:00.000000000', '2016-05-25T00:00:00.000000000',\n",
       "       '2016-05-11T00:00:00.000000000', '2016-05-18T00:00:00.000000000',\n",
       "       '2016-05-14T00:00:00.000000000', '2016-06-02T00:00:00.000000000',\n",
       "       '2016-06-03T00:00:00.000000000', '2016-06-06T00:00:00.000000000',\n",
       "       '2016-06-07T00:00:00.000000000', '2016-06-01T00:00:00.000000000',\n",
       "       '2016-06-08T00:00:00.000000000'], dtype='datetime64[ns]')"
      ]
     },
     "execution_count": 14,
     "metadata": {},
     "output_type": "execute_result"
    }
   ],
   "source": [
    "#check the unique values to explore the wrong value.\n",
    "df_showUp['AppointmentDay'].unique()"
   ]
  },
  {
   "cell_type": "code",
   "execution_count": 15,
   "metadata": {},
   "outputs": [
    {
     "data": {
      "text/plain": [
       "array([ 62,  56,   8,  76,  23,  39,  21,  19,  30,  29,  22,  28,  54,\n",
       "        15,  50,  40,  46,   4,  13,  65,  45,  51,  32,  12,  61,  38,\n",
       "        79,  18,  63,  64,  85,  59,  55,  71,  49,  78,  31,  58,  27,\n",
       "         6,   2,  11,   7,   0,   3,   1,  69,  68,  60,  67,  36,  10,\n",
       "        35,  20,  26,  34,  33,  16,  42,   5,  47,  17,  41,  44,  37,\n",
       "        24,  66,  77,  81,  70,  53,  75,  73,  52,  74,  43,  89,  57,\n",
       "        14,   9,  48,  83,  72,  25,  80,  87,  88,  84,  82,  90,  94,\n",
       "        86,  91,  98,  92,  96,  93,  95,  97, 102, 115, 100,  99,  -1],\n",
       "      dtype=int64)"
      ]
     },
     "execution_count": 15,
     "metadata": {},
     "output_type": "execute_result"
    }
   ],
   "source": [
    "#check the unique values to explore the wrong value.\n",
    "df_showUp['Age'].unique()"
   ]
  },
  {
   "cell_type": "markdown",
   "metadata": {},
   "source": [
    "It seems that there is a human error, I noticed that there is an age = '-1', let's check for more human errors in age feature."
   ]
  },
  {
   "cell_type": "code",
   "execution_count": 16,
   "metadata": {},
   "outputs": [
    {
     "data": {
      "text/plain": [
       "-1    1\n",
       "Name: Age, dtype: int64"
      ]
     },
     "execution_count": 16,
     "metadata": {},
     "output_type": "execute_result"
    }
   ],
   "source": [
    "#calculate how much age is < 0 to drop them later\n",
    "df_showUp[df_showUp['Age']<0]['Age'].value_counts()"
   ]
  },
  {
   "cell_type": "markdown",
   "metadata": {},
   "source": [
    "I need to remove this record with age = '-1'."
   ]
  },
  {
   "cell_type": "code",
   "execution_count": 17,
   "metadata": {},
   "outputs": [],
   "source": [
    "#remove record with age < 0\n",
    "df_showUp.drop(df_showUp[df_showUp['Age'] < 0].index, axis=0, inplace=True)"
   ]
  },
  {
   "cell_type": "code",
   "execution_count": 18,
   "metadata": {},
   "outputs": [
    {
     "data": {
      "text/plain": [
       "Series([], Name: Age, dtype: int64)"
      ]
     },
     "execution_count": 18,
     "metadata": {},
     "output_type": "execute_result"
    }
   ],
   "source": [
    "#check one more time to ensure that no more error in age feature\n",
    "df_showUp[df_showUp['Age']<0]['Age'].value_counts()"
   ]
  },
  {
   "cell_type": "code",
   "execution_count": 19,
   "metadata": {},
   "outputs": [
    {
     "data": {
      "text/plain": [
       "array([0, 1], dtype=int64)"
      ]
     },
     "execution_count": 19,
     "metadata": {},
     "output_type": "execute_result"
    }
   ],
   "source": [
    "#check the unique values to explore the wrong value.\n",
    "df_showUp['Scholarship'].unique()"
   ]
  },
  {
   "cell_type": "code",
   "execution_count": 20,
   "metadata": {},
   "outputs": [
    {
     "data": {
      "text/plain": [
       "array([1, 0], dtype=int64)"
      ]
     },
     "execution_count": 20,
     "metadata": {},
     "output_type": "execute_result"
    }
   ],
   "source": [
    "#check the unique values to explore the wrong value.\n",
    "df_showUp['Hipertension'].unique()"
   ]
  },
  {
   "cell_type": "code",
   "execution_count": 21,
   "metadata": {},
   "outputs": [
    {
     "data": {
      "text/plain": [
       "array([0, 1], dtype=int64)"
      ]
     },
     "execution_count": 21,
     "metadata": {},
     "output_type": "execute_result"
    }
   ],
   "source": [
    "#check the unique values to explore the wrong value.\n",
    "df_showUp['Diabetes'].unique()"
   ]
  },
  {
   "cell_type": "code",
   "execution_count": 22,
   "metadata": {},
   "outputs": [
    {
     "data": {
      "text/plain": [
       "array([0, 1], dtype=int64)"
      ]
     },
     "execution_count": 22,
     "metadata": {},
     "output_type": "execute_result"
    }
   ],
   "source": [
    "#check the unique values to explore the wrong value.\n",
    "df_showUp['Alcoholism'].unique()"
   ]
  },
  {
   "cell_type": "code",
   "execution_count": 23,
   "metadata": {},
   "outputs": [
    {
     "data": {
      "text/plain": [
       "array([0, 1, 2, 3, 4], dtype=int64)"
      ]
     },
     "execution_count": 23,
     "metadata": {},
     "output_type": "execute_result"
    }
   ],
   "source": [
    "#check the unique values to explore the wrong value.\n",
    "df_showUp['Handcap'].unique()"
   ]
  },
  {
   "cell_type": "markdown",
   "metadata": {},
   "source": [
    "it seems that there are 4 categories of the Handicap used in this Dataset."
   ]
  },
  {
   "cell_type": "code",
   "execution_count": 24,
   "metadata": {},
   "outputs": [
    {
     "data": {
      "text/plain": [
       "0    108285\n",
       "1      2042\n",
       "2       183\n",
       "3        13\n",
       "4         3\n",
       "Name: Handcap, dtype: int64"
      ]
     },
     "execution_count": 24,
     "metadata": {},
     "output_type": "execute_result"
    }
   ],
   "source": [
    "#check the unique values to explore the wrong value.\n",
    "df_showUp['Handcap'].value_counts() "
   ]
  },
  {
   "cell_type": "markdown",
   "metadata": {},
   "source": [
    "With this distribution in numbers, it seems to me that it's 'categories system' used in this Dataset."
   ]
  },
  {
   "cell_type": "code",
   "execution_count": 25,
   "metadata": {},
   "outputs": [
    {
     "data": {
      "text/plain": [
       "array([0, 1], dtype=int64)"
      ]
     },
     "execution_count": 25,
     "metadata": {},
     "output_type": "execute_result"
    }
   ],
   "source": [
    "#check the unique values to explore the wrong value.\n",
    "df_showUp['SMS_received'].unique()"
   ]
  },
  {
   "cell_type": "code",
   "execution_count": 26,
   "metadata": {},
   "outputs": [
    {
     "data": {
      "text/plain": [
       "array(['No', 'Yes'], dtype=object)"
      ]
     },
     "execution_count": 26,
     "metadata": {},
     "output_type": "execute_result"
    }
   ],
   "source": [
    "#check the unique values to explore the wrong value.\n",
    "df_showUp['No-show'].unique()"
   ]
  },
  {
   "cell_type": "markdown",
   "metadata": {},
   "source": [
    "After ensuring that there are no Human Errors, irrational input, need to check the duplication of the records."
   ]
  },
  {
   "cell_type": "code",
   "execution_count": 27,
   "metadata": {},
   "outputs": [
    {
     "data": {
      "text/plain": [
       "0"
      ]
     },
     "execution_count": 27,
     "metadata": {},
     "output_type": "execute_result"
    }
   ],
   "source": [
    "#check for duplicated records to drop them later\n",
    "sum(df_showUp.duplicated())"
   ]
  },
  {
   "cell_type": "markdown",
   "metadata": {},
   "source": [
    "No duplicated records "
   ]
  },
  {
   "cell_type": "code",
   "execution_count": 28,
   "metadata": {
    "scrolled": false
   },
   "outputs": [
    {
     "data": {
      "text/html": [
       "<div>\n",
       "<style scoped>\n",
       "    .dataframe tbody tr th:only-of-type {\n",
       "        vertical-align: middle;\n",
       "    }\n",
       "\n",
       "    .dataframe tbody tr th {\n",
       "        vertical-align: top;\n",
       "    }\n",
       "\n",
       "    .dataframe thead th {\n",
       "        text-align: right;\n",
       "    }\n",
       "</style>\n",
       "<table border=\"1\" class=\"dataframe\">\n",
       "  <thead>\n",
       "    <tr style=\"text-align: right;\">\n",
       "      <th></th>\n",
       "      <th>AppointmentID</th>\n",
       "      <th>Age</th>\n",
       "      <th>Scholarship</th>\n",
       "      <th>Hipertension</th>\n",
       "      <th>Diabetes</th>\n",
       "      <th>Alcoholism</th>\n",
       "      <th>Handcap</th>\n",
       "      <th>SMS_received</th>\n",
       "    </tr>\n",
       "  </thead>\n",
       "  <tbody>\n",
       "    <tr>\n",
       "      <th>count</th>\n",
       "      <td>1.105260e+05</td>\n",
       "      <td>110526.000000</td>\n",
       "      <td>110526.000000</td>\n",
       "      <td>110526.000000</td>\n",
       "      <td>110526.000000</td>\n",
       "      <td>110526.000000</td>\n",
       "      <td>110526.000000</td>\n",
       "      <td>110526.000000</td>\n",
       "    </tr>\n",
       "    <tr>\n",
       "      <th>mean</th>\n",
       "      <td>5.675304e+06</td>\n",
       "      <td>37.089219</td>\n",
       "      <td>0.098266</td>\n",
       "      <td>0.197248</td>\n",
       "      <td>0.071865</td>\n",
       "      <td>0.030400</td>\n",
       "      <td>0.022248</td>\n",
       "      <td>0.321029</td>\n",
       "    </tr>\n",
       "    <tr>\n",
       "      <th>std</th>\n",
       "      <td>7.129544e+04</td>\n",
       "      <td>23.110026</td>\n",
       "      <td>0.297676</td>\n",
       "      <td>0.397923</td>\n",
       "      <td>0.258266</td>\n",
       "      <td>0.171686</td>\n",
       "      <td>0.161543</td>\n",
       "      <td>0.466874</td>\n",
       "    </tr>\n",
       "    <tr>\n",
       "      <th>min</th>\n",
       "      <td>5.030230e+06</td>\n",
       "      <td>0.000000</td>\n",
       "      <td>0.000000</td>\n",
       "      <td>0.000000</td>\n",
       "      <td>0.000000</td>\n",
       "      <td>0.000000</td>\n",
       "      <td>0.000000</td>\n",
       "      <td>0.000000</td>\n",
       "    </tr>\n",
       "    <tr>\n",
       "      <th>25%</th>\n",
       "      <td>5.640285e+06</td>\n",
       "      <td>18.000000</td>\n",
       "      <td>0.000000</td>\n",
       "      <td>0.000000</td>\n",
       "      <td>0.000000</td>\n",
       "      <td>0.000000</td>\n",
       "      <td>0.000000</td>\n",
       "      <td>0.000000</td>\n",
       "    </tr>\n",
       "    <tr>\n",
       "      <th>50%</th>\n",
       "      <td>5.680572e+06</td>\n",
       "      <td>37.000000</td>\n",
       "      <td>0.000000</td>\n",
       "      <td>0.000000</td>\n",
       "      <td>0.000000</td>\n",
       "      <td>0.000000</td>\n",
       "      <td>0.000000</td>\n",
       "      <td>0.000000</td>\n",
       "    </tr>\n",
       "    <tr>\n",
       "      <th>75%</th>\n",
       "      <td>5.725523e+06</td>\n",
       "      <td>55.000000</td>\n",
       "      <td>0.000000</td>\n",
       "      <td>0.000000</td>\n",
       "      <td>0.000000</td>\n",
       "      <td>0.000000</td>\n",
       "      <td>0.000000</td>\n",
       "      <td>1.000000</td>\n",
       "    </tr>\n",
       "    <tr>\n",
       "      <th>max</th>\n",
       "      <td>5.790484e+06</td>\n",
       "      <td>115.000000</td>\n",
       "      <td>1.000000</td>\n",
       "      <td>1.000000</td>\n",
       "      <td>1.000000</td>\n",
       "      <td>1.000000</td>\n",
       "      <td>4.000000</td>\n",
       "      <td>1.000000</td>\n",
       "    </tr>\n",
       "  </tbody>\n",
       "</table>\n",
       "</div>"
      ],
      "text/plain": [
       "       AppointmentID            Age    Scholarship   Hipertension  \\\n",
       "count   1.105260e+05  110526.000000  110526.000000  110526.000000   \n",
       "mean    5.675304e+06      37.089219       0.098266       0.197248   \n",
       "std     7.129544e+04      23.110026       0.297676       0.397923   \n",
       "min     5.030230e+06       0.000000       0.000000       0.000000   \n",
       "25%     5.640285e+06      18.000000       0.000000       0.000000   \n",
       "50%     5.680572e+06      37.000000       0.000000       0.000000   \n",
       "75%     5.725523e+06      55.000000       0.000000       0.000000   \n",
       "max     5.790484e+06     115.000000       1.000000       1.000000   \n",
       "\n",
       "            Diabetes     Alcoholism        Handcap   SMS_received  \n",
       "count  110526.000000  110526.000000  110526.000000  110526.000000  \n",
       "mean        0.071865       0.030400       0.022248       0.321029  \n",
       "std         0.258266       0.171686       0.161543       0.466874  \n",
       "min         0.000000       0.000000       0.000000       0.000000  \n",
       "25%         0.000000       0.000000       0.000000       0.000000  \n",
       "50%         0.000000       0.000000       0.000000       0.000000  \n",
       "75%         0.000000       0.000000       0.000000       1.000000  \n",
       "max         1.000000       1.000000       4.000000       1.000000  "
      ]
     },
     "execution_count": 28,
     "metadata": {},
     "output_type": "execute_result"
    }
   ],
   "source": [
    "#to have an overview about the data after clean it.\n",
    "df_showUp.describe()"
   ]
  },
  {
   "cell_type": "markdown",
   "metadata": {},
   "source": [
    "### Observation:\n",
    "\n",
    "- The Average Age of patients is 37, while the min patients age is 0 'infants',  25% of patients are 18 years old 'teenagers', 75% of patients are 55 years old and the max is about 115. \n",
    "\n",
    "- For the 'Scholarship', it seems that most of the patients do not have a Scholarship, will be investigated more later.\n",
    "\n",
    "- For the 'Hipertension', it seems that most of the patients do not suffer from Hypertension, will be investigated more later.\n",
    "\n",
    "- For the 'Diabetes', it seems that most of the patients do not suffer from Diabetes, will be investigated more later.\n",
    "\n",
    "- For the 'Alcoholism', it seems that most of the patients do not suffer from Alcoholism, will be investigated more later.\n",
    "\n",
    "- For the 'Handcap', it seems that most of the patients do not suffer from Handicap, will be investigated more later.\n",
    "\n",
    "- For the 'SMS_received', it seems that 75%  received SMS, will be investigated more later.\n",
    " "
   ]
  },
  {
   "cell_type": "markdown",
   "metadata": {},
   "source": [
    "<a id='eda'></a>\n",
    "## Exploring Data\n"
   ]
  },
  {
   "cell_type": "code",
   "execution_count": 29,
   "metadata": {},
   "outputs": [
    {
     "data": {
      "image/png": "[encoded data removed]",
      "text/plain": [
       "<Figure size 1080x1080 with 9 Axes>"
      ]
     },
     "metadata": {
      "needs_background": "light"
     },
     "output_type": "display_data"
    }
   ],
   "source": [
    "#plot histogram\n",
    "df_showUp.hist(figsize=(15, 15));"
   ]
  },
  {
   "cell_type": "code",
   "execution_count": 30,
   "metadata": {},
   "outputs": [
    {
     "data": {
      "text/plain": [
       "Text(0, 0.5, 'Patient_Number')"
      ]
     },
     "execution_count": 30,
     "metadata": {},
     "output_type": "execute_result"
    },
    {
     "data": {
      "image/png": "[encoded data removed]",
      "text/plain": [
       "<Figure size 576x504 with 1 Axes>"
      ]
     },
     "metadata": {
      "needs_background": "light"
     },
     "output_type": "display_data"
    }
   ],
   "source": [
    "# Scheduled Day histogram\n",
    "Splot = df_showUp['ScheduledDay'].hist(figsize=(8, 7));\n",
    "plt.title('Scheduled Day')\n",
    "Splot.set_xlabel('Date')\n",
    "Splot.set_ylabel('Patient_Number')"
   ]
  },
  {
   "cell_type": "code",
   "execution_count": 31,
   "metadata": {},
   "outputs": [
    {
     "data": {
      "text/plain": [
       "Text(0, 0.5, 'Patient_Number')"
      ]
     },
     "execution_count": 31,
     "metadata": {},
     "output_type": "execute_result"
    },
    {
     "data": {
      "image/png": "[encoded data removed]",
      "text/plain": [
       "<Figure size 576x504 with 1 Axes>"
      ]
     },
     "metadata": {
      "needs_background": "light"
     },
     "output_type": "display_data"
    }
   ],
   "source": [
    "# Appointment Day histogram\n",
    "Aplot = df_showUp['AppointmentDay'].hist(figsize=(8, 7));\n",
    "plt.title('Appointment Day')\n",
    "Aplot.set_xlabel('Date')\n",
    "Aplot.set_ylabel('Patient_Number')"
   ]
  },
  {
   "cell_type": "markdown",
   "metadata": {},
   "source": [
    "### Observation:\n",
    "\n",
    "- The 'Age' hist seems that it's skewed to the right, and the ages are kind of well-distributed, where about 20,000 patients are under 10 years, and most patients are between 20-60 years, while few patients are older than 60.\n",
    "\n",
    "- The 'Alcoholism' hist shows that most of the patients are not alcoholics, where about 105,000 patients are not alcoholics and less than 5,000 are alcoholics.\n",
    "\n",
    "- The 'Diabetes' hist shows that most of the patients do not have diabetes, where about 100,000 patients do not have diabetes and less than 10,000 have diabetes.\n",
    "\n",
    "- The 'Handcap' hist shows that most of the patients do not suffer from a handicap, where about 107,000 patients do not suffer from the handicap and less than 3,000 suffer from the handicap.\n",
    "\n",
    "- The 'Hipertension' hist shows that most of the patients do not have Hypertension, where about 90,000 patients do not have Hypertension and less than  22,000 have Hypertension.\n",
    "\n",
    "- The 'SMS_received' hist shows that most of the patients do not receive SMS regarding the appointment, where about 75,000 patients do not receive SMS, and less than 35,000 received it.\n",
    "\n",
    "- The 'Scholarship' hist shows that most of the patients do not have a scholarship, where about 100,000 patients do not have scholarships and about 10,000 patients do have a scholarship.\n",
    "\n",
    "- The ScheduledDay hist skwed to the left, Most of Scheduled made between March and June 2016.\n",
    "\n",
    "- The AppointmentDay hist, made between Nov 2015 to June 2016"
   ]
  },
  {
   "cell_type": "code",
   "execution_count": 32,
   "metadata": {},
   "outputs": [
    {
     "data": {
      "text/plain": [
       "count                  110526\n",
       "unique                    111\n",
       "top       2016-05-03 00:00:00\n",
       "freq                     4238\n",
       "first     2015-11-10 00:00:00\n",
       "last      2016-06-08 00:00:00\n",
       "Name: ScheduledDay, dtype: object"
      ]
     },
     "execution_count": 32,
     "metadata": {},
     "output_type": "execute_result"
    }
   ],
   "source": [
    "# Describe the Scheduled Day values\n",
    "df_showUp['ScheduledDay'].describe()"
   ]
  },
  {
   "cell_type": "markdown",
   "metadata": {},
   "source": [
    "the 'Scheduled Day' started from 2015-11-10 and end in 2016-06-08"
   ]
  },
  {
   "cell_type": "code",
   "execution_count": 33,
   "metadata": {},
   "outputs": [
    {
     "data": {
      "text/plain": [
       "count                  110526\n",
       "unique                     27\n",
       "top       2016-06-06 00:00:00\n",
       "freq                     4691\n",
       "first     2016-04-29 00:00:00\n",
       "last      2016-06-08 00:00:00\n",
       "Name: AppointmentDay, dtype: object"
      ]
     },
     "execution_count": 33,
     "metadata": {},
     "output_type": "execute_result"
    }
   ],
   "source": [
    "# Describe the Appointment Day values\n",
    "df_showUp['AppointmentDay'].describe()"
   ]
  },
  {
   "cell_type": "markdown",
   "metadata": {},
   "source": [
    "the 'AppointmentDay' started from 2016-04-29 and end in 2016-06-08"
   ]
  },
  {
   "cell_type": "code",
   "execution_count": 34,
   "metadata": {},
   "outputs": [
    {
     "data": {
      "text/plain": [
       "Text(0.5, 1.0, '\\nThe distribution of age')"
      ]
     },
     "execution_count": 34,
     "metadata": {},
     "output_type": "execute_result"
    },
    {
     "data": {
      "image/png": "[encoded data removed]",
      "text/plain": [
       "<Figure size 576x576 with 1 Axes>"
      ]
     },
     "metadata": {},
     "output_type": "display_data"
    }
   ],
   "source": [
    "# plot the distribution of age\n",
    "df_showUp['Age'].value_counts(bins=10).plot(kind='pie',figsize=(8,8))\n",
    "plt.title(\"\\nThe distribution of age\")"
   ]
  },
  {
   "cell_type": "markdown",
   "metadata": {},
   "source": [
    "Most patients are young."
   ]
  },
  {
   "cell_type": "code",
   "execution_count": 35,
   "metadata": {},
   "outputs": [
    {
     "data": {
      "text/plain": [
       "Text(0.5, 1.0, '\\nthe proportion of alcoholics and non-alcoholics')"
      ]
     },
     "execution_count": 35,
     "metadata": {},
     "output_type": "execute_result"
    },
    {
     "data": {
      "image/png": "[encoded data removed]",
      "text/plain": [
       "<Figure size 576x576 with 1 Axes>"
      ]
     },
     "metadata": {},
     "output_type": "display_data"
    }
   ],
   "source": [
    "# plot for the proportion of alcoholics and non-alcoholics\n",
    "df_showUp['Alcoholism'].value_counts().plot(kind='pie',figsize=(8,8))\n",
    "plt.title(\"\\nthe proportion of alcoholics and non-alcoholics\")"
   ]
  },
  {
   "cell_type": "markdown",
   "metadata": {},
   "source": [
    "Most patients are not alcoholics"
   ]
  },
  {
   "cell_type": "code",
   "execution_count": 36,
   "metadata": {},
   "outputs": [
    {
     "data": {
      "text/plain": [
       "Text(0.5, 1.0, '\\nThe proportion of patients who suffer from diabetes and those who do not suffer from diabetes.')"
      ]
     },
     "execution_count": 36,
     "metadata": {},
     "output_type": "execute_result"
    },
    {
     "data": {
      "image/png": "[encoded data removed]",
      "text/plain": [
       "<Figure size 576x576 with 1 Axes>"
      ]
     },
     "metadata": {},
     "output_type": "display_data"
    }
   ],
   "source": [
    "# plot fot the proportion of patients who suffer from diabetes and those who do not suffer from diabetes.\n",
    "df_showUp['Diabetes'].value_counts().plot(kind='pie',figsize=(8,8))\n",
    "plt.title(\"\\nThe proportion of patients who suffer from diabetes and those who do not suffer from diabetes.\")"
   ]
  },
  {
   "cell_type": "markdown",
   "metadata": {},
   "source": [
    "Most patients do not suffer from diabetes."
   ]
  },
  {
   "cell_type": "code",
   "execution_count": 37,
   "metadata": {},
   "outputs": [
    {
     "data": {
      "text/plain": [
       "Text(0.5, 1.0, '\\nThe proportion of Handicap and non-Handicap')"
      ]
     },
     "execution_count": 37,
     "metadata": {},
     "output_type": "execute_result"
    },
    {
     "data": {
      "image/png": "[encoded data removed]",
      "text/plain": [
       "<Figure size 576x576 with 1 Axes>"
      ]
     },
     "metadata": {},
     "output_type": "display_data"
    }
   ],
   "source": [
    "# plot for the proportion of Handicap and non-Handicap\n",
    "df_showUp['Handcap'].value_counts().plot(kind='pie',figsize=(8,8))\n",
    "plt.title(\"\\nThe proportion of Handicap and non-Handicap\")"
   ]
  },
  {
   "cell_type": "markdown",
   "metadata": {},
   "source": [
    "Most of the patients do not suffer from a handicap."
   ]
  },
  {
   "cell_type": "code",
   "execution_count": 38,
   "metadata": {},
   "outputs": [
    {
     "data": {
      "text/plain": [
       "Text(0.5, 1.0, '\\n The proportion of Hipertension and non-Hipertension')"
      ]
     },
     "execution_count": 38,
     "metadata": {},
     "output_type": "execute_result"
    },
    {
     "data": {
      "image/png": "[encoded data removed]",
      "text/plain": [
       "<Figure size 576x576 with 1 Axes>"
      ]
     },
     "metadata": {},
     "output_type": "display_data"
    }
   ],
   "source": [
    "# plot for the proportion of Hipertension and non-Hipertension\n",
    "df_showUp['Hipertension'].value_counts().plot(kind='pie',figsize=(8,8))\n",
    "plt.title(\"\\n The proportion of Hipertension and non-Hipertension\")"
   ]
  },
  {
   "cell_type": "markdown",
   "metadata": {},
   "source": [
    "Most of the patients do not have Hypertension."
   ]
  },
  {
   "cell_type": "code",
   "execution_count": 39,
   "metadata": {},
   "outputs": [
    {
     "data": {
      "text/plain": [
       "Text(0.5, 1.0, '\\n The proportion of receiving SMS and not receiving SMS')"
      ]
     },
     "execution_count": 39,
     "metadata": {},
     "output_type": "execute_result"
    },
    {
     "data": {
      "image/png": "[encoded data removed]",
      "text/plain": [
       "<Figure size 576x576 with 1 Axes>"
      ]
     },
     "metadata": {},
     "output_type": "display_data"
    }
   ],
   "source": [
    "# plot for the proportion of receiving SMS and not receiving SMS\n",
    "df_showUp['SMS_received'].value_counts().plot(kind='pie',figsize=(8,8))\n",
    "plt.title(\"\\n The proportion of receiving SMS and not receiving SMS\")"
   ]
  },
  {
   "cell_type": "markdown",
   "metadata": {},
   "source": [
    "Most of the patients do not received SMS regarding the appointment."
   ]
  },
  {
   "cell_type": "code",
   "execution_count": 40,
   "metadata": {},
   "outputs": [
    {
     "data": {
      "text/plain": [
       "Text(0.5, 1.0, '\\n The proportion of having Scholarship and not have Scholarship')"
      ]
     },
     "execution_count": 40,
     "metadata": {},
     "output_type": "execute_result"
    },
    {
     "data": {
      "image/png": "[encoded data removed]",
      "text/plain": [
       "<Figure size 576x576 with 1 Axes>"
      ]
     },
     "metadata": {},
     "output_type": "display_data"
    }
   ],
   "source": [
    "# plot for the proportion of having Scholarship and not have Scholarship\n",
    "df_showUp['Scholarship'].value_counts().plot(kind='pie',figsize=(8,8))\n",
    "plt.title(\"\\n The proportion of having Scholarship and not have Scholarship\")"
   ]
  },
  {
   "cell_type": "markdown",
   "metadata": {},
   "source": [
    "Most of the patients do not have scholarship."
   ]
  },
  {
   "cell_type": "markdown",
   "metadata": {},
   "source": [
    "<a id='Questions'></a>  \n",
    "### Questions\n",
    "Based on the above Dataset analysis many questions need to be answered:\n",
    "\n",
    "- How many patients missed their appointment?\n",
    "- What's the gender that missed their appointment more?\n",
    "- Is the SMS_received have a relation on affecting not show up rate?\n",
    "- Does the waiting period affect the patient's show up?\n",
    "- How many appointments are scheduled per day؟\n",
    "- What factors are important for us to know in order to predict if a patient will show up for their scheduled appointment?\n",
    "- Is there more than one appointment for the same patient?"
   ]
  },
  {
   "cell_type": "markdown",
   "metadata": {},
   "source": [
    "## What factors are important for us to know in order to predict if a patient will show up for their scheduled appointment?"
   ]
  },
  {
   "cell_type": "markdown",
   "metadata": {},
   "source": [
    "### 1- How many patients missed their appointment?"
   ]
  },
  {
   "cell_type": "code",
   "execution_count": 41,
   "metadata": {},
   "outputs": [
    {
     "name": "stdout",
     "output_type": "stream",
     "text": [
      "110526\n",
      "Yes    20.193439\n",
      "Name: No-show, dtype: float64\n",
      "No    79.806561\n",
      "Name: No-show, dtype: float64\n"
     ]
    },
    {
     "data": {
      "image/png": "[encoded data removed]",
      "text/plain": [
       "<Figure size 432x288 with 1 Axes>"
      ]
     },
     "metadata": {
      "needs_background": "light"
     },
     "output_type": "display_data"
    }
   ],
   "source": [
    "df_showUp['No-show'].value_counts().plot(kind='bar')\n",
    "plt.title('How many patients missed their appointment?')\n",
    "plt.ylabel('Number of patients')\n",
    "total = len(df_showUp['No-show'])\n",
    "print(total)\n",
    "print((df_showUp[(df_showUp['No-show'] == \"Yes\")]['No-show'].value_counts()/total*100))\n",
    "print((df_showUp[(df_showUp['No-show'] == \"No\")]['No-show'].value_counts()/total*100))\n"
   ]
  },
  {
   "cell_type": "markdown",
   "metadata": {},
   "source": [
    "20% of the patients missed their appointment, while 80% of the patients attend thier appointment..."
   ]
  },
  {
   "cell_type": "markdown",
   "metadata": {},
   "source": [
    "## 2- What's the gender that missed thier appointment more?"
   ]
  },
  {
   "cell_type": "code",
   "execution_count": 42,
   "metadata": {},
   "outputs": [
    {
     "name": "stdout",
     "output_type": "stream",
     "text": [
      "Gender\n",
      "F    71839\n",
      "M    38687\n",
      "dtype: int64\n",
      "No-show         No        Yes\n",
      "Gender                       \n",
      "F        51.793243  13.204133\n",
      "M        28.013318   6.989306\n"
     ]
    },
    {
     "data": {
      "image/png": "[encoded data removed]",
      "text/plain": [
       "<Figure size 720x720 with 1 Axes>"
      ]
     },
     "metadata": {
      "needs_background": "light"
     },
     "output_type": "display_data"
    }
   ],
   "source": [
    "groups = df_showUp.groupby(['Gender','No-show']).size().unstack(fill_value=0)\n",
    "G_plot = groups.plot.bar(figsize=(10,10))\n",
    "plt.title('Explanation of whether or not the patient show up for their appointment for both genders')\n",
    "G_plot.set_ylabel('Patient_Number')\n",
    "total = len(df_showUp['No-show'])\n",
    "print(df_showUp.groupby(['Gender']).size())\n",
    "print(groups/total*100)"
   ]
  },
  {
   "cell_type": "markdown",
   "metadata": {},
   "source": [
    "The number of Female patients is '71839' where 51% have attended the appointment while 13% missed their appointment.\n",
    "\n",
    "The number of Male patients is '38687' where 28% have attended the appointment while 6% missed their appointment."
   ]
  },
  {
   "cell_type": "markdown",
   "metadata": {},
   "source": [
    "### 3- Is the SMS_received have a relation on affecting on not show up rate?"
   ]
  },
  {
   "cell_type": "code",
   "execution_count": 43,
   "metadata": {},
   "outputs": [
    {
     "name": "stdout",
     "output_type": "stream",
     "text": [
      "SMS_received\n",
      "0    75044\n",
      "1    35482\n",
      "dtype: int64\n",
      "No-show              No        Yes\n",
      "SMS_received                      \n",
      "0             56.555923  11.341223\n",
      "1             23.250638   8.852216\n"
     ]
    },
    {
     "data": {
      "image/png": "[encoded data removed]",
      "text/plain": [
       "<Figure size 720x720 with 1 Axes>"
      ]
     },
     "metadata": {
      "needs_background": "light"
     },
     "output_type": "display_data"
    }
   ],
   "source": [
    "groups = df_showUp.groupby(['SMS_received','No-show']).size().unstack(fill_value=0)\n",
    "S_plot = groups.plot.bar(figsize=(10,10))\n",
    "plt.title('Explanation of whether or not the patient received an SMS and show up or not')\n",
    "S_plot.set_ylabel('Patient_Number')\n",
    "total = len(df_showUp['SMS_received'])\n",
    "print(df_showUp.groupby(['SMS_received']).size())\n",
    "print(groups/total*100)"
   ]
  },
  {
   "cell_type": "markdown",
   "metadata": {},
   "source": [
    "The number of patients that recieved an SMS is '35482' where 23% have attended the appointment while 8% missed their appointment.\n",
    "\n",
    "The number of patients that didn't recieved an SMS is '75044' where 56% have attended the appointment while 11% missed their appointment."
   ]
  },
  {
   "cell_type": "markdown",
   "metadata": {},
   "source": [
    "### 4- Does the waiting period affect the patient's show up?"
   ]
  },
  {
   "cell_type": "code",
   "execution_count": 44,
   "metadata": {},
   "outputs": [
    {
     "data": {
      "text/html": [
       "<div>\n",
       "<style scoped>\n",
       "    .dataframe tbody tr th:only-of-type {\n",
       "        vertical-align: middle;\n",
       "    }\n",
       "\n",
       "    .dataframe tbody tr th {\n",
       "        vertical-align: top;\n",
       "    }\n",
       "\n",
       "    .dataframe thead th {\n",
       "        text-align: right;\n",
       "    }\n",
       "</style>\n",
       "<table border=\"1\" class=\"dataframe\">\n",
       "  <thead>\n",
       "    <tr style=\"text-align: right;\">\n",
       "      <th></th>\n",
       "      <th>PatientId</th>\n",
       "      <th>AppointmentID</th>\n",
       "      <th>Gender</th>\n",
       "      <th>ScheduledDay</th>\n",
       "      <th>AppointmentDay</th>\n",
       "      <th>Age</th>\n",
       "      <th>Neighbourhood</th>\n",
       "      <th>Scholarship</th>\n",
       "      <th>Hipertension</th>\n",
       "      <th>Diabetes</th>\n",
       "      <th>Alcoholism</th>\n",
       "      <th>Handcap</th>\n",
       "      <th>SMS_received</th>\n",
       "      <th>No-show</th>\n",
       "      <th>WaitingPeriod</th>\n",
       "    </tr>\n",
       "  </thead>\n",
       "  <tbody>\n",
       "    <tr>\n",
       "      <th>0</th>\n",
       "      <td>29872499824296</td>\n",
       "      <td>5642903</td>\n",
       "      <td>F</td>\n",
       "      <td>2016-04-29</td>\n",
       "      <td>2016-04-29</td>\n",
       "      <td>62</td>\n",
       "      <td>JARDIM DA PENHA</td>\n",
       "      <td>0</td>\n",
       "      <td>1</td>\n",
       "      <td>0</td>\n",
       "      <td>0</td>\n",
       "      <td>0</td>\n",
       "      <td>0</td>\n",
       "      <td>No</td>\n",
       "      <td>0</td>\n",
       "    </tr>\n",
       "    <tr>\n",
       "      <th>1</th>\n",
       "      <td>558997776694438</td>\n",
       "      <td>5642503</td>\n",
       "      <td>M</td>\n",
       "      <td>2016-04-29</td>\n",
       "      <td>2016-04-29</td>\n",
       "      <td>56</td>\n",
       "      <td>JARDIM DA PENHA</td>\n",
       "      <td>0</td>\n",
       "      <td>0</td>\n",
       "      <td>0</td>\n",
       "      <td>0</td>\n",
       "      <td>0</td>\n",
       "      <td>0</td>\n",
       "      <td>No</td>\n",
       "      <td>0</td>\n",
       "    </tr>\n",
       "    <tr>\n",
       "      <th>2</th>\n",
       "      <td>4262962299951</td>\n",
       "      <td>5642549</td>\n",
       "      <td>F</td>\n",
       "      <td>2016-04-29</td>\n",
       "      <td>2016-04-29</td>\n",
       "      <td>62</td>\n",
       "      <td>MATA DA PRAIA</td>\n",
       "      <td>0</td>\n",
       "      <td>0</td>\n",
       "      <td>0</td>\n",
       "      <td>0</td>\n",
       "      <td>0</td>\n",
       "      <td>0</td>\n",
       "      <td>No</td>\n",
       "      <td>0</td>\n",
       "    </tr>\n",
       "    <tr>\n",
       "      <th>3</th>\n",
       "      <td>867951213174</td>\n",
       "      <td>5642828</td>\n",
       "      <td>F</td>\n",
       "      <td>2016-04-29</td>\n",
       "      <td>2016-04-29</td>\n",
       "      <td>8</td>\n",
       "      <td>PONTAL DE CAMBURI</td>\n",
       "      <td>0</td>\n",
       "      <td>0</td>\n",
       "      <td>0</td>\n",
       "      <td>0</td>\n",
       "      <td>0</td>\n",
       "      <td>0</td>\n",
       "      <td>No</td>\n",
       "      <td>0</td>\n",
       "    </tr>\n",
       "    <tr>\n",
       "      <th>4</th>\n",
       "      <td>8841186448183</td>\n",
       "      <td>5642494</td>\n",
       "      <td>F</td>\n",
       "      <td>2016-04-29</td>\n",
       "      <td>2016-04-29</td>\n",
       "      <td>56</td>\n",
       "      <td>JARDIM DA PENHA</td>\n",
       "      <td>0</td>\n",
       "      <td>1</td>\n",
       "      <td>1</td>\n",
       "      <td>0</td>\n",
       "      <td>0</td>\n",
       "      <td>0</td>\n",
       "      <td>No</td>\n",
       "      <td>0</td>\n",
       "    </tr>\n",
       "  </tbody>\n",
       "</table>\n",
       "</div>"
      ],
      "text/plain": [
       "         PatientId  AppointmentID Gender ScheduledDay AppointmentDay  Age  \\\n",
       "0   29872499824296        5642903      F   2016-04-29     2016-04-29   62   \n",
       "1  558997776694438        5642503      M   2016-04-29     2016-04-29   56   \n",
       "2    4262962299951        5642549      F   2016-04-29     2016-04-29   62   \n",
       "3     867951213174        5642828      F   2016-04-29     2016-04-29    8   \n",
       "4    8841186448183        5642494      F   2016-04-29     2016-04-29   56   \n",
       "\n",
       "       Neighbourhood  Scholarship  Hipertension  Diabetes  Alcoholism  \\\n",
       "0    JARDIM DA PENHA            0             1         0           0   \n",
       "1    JARDIM DA PENHA            0             0         0           0   \n",
       "2      MATA DA PRAIA            0             0         0           0   \n",
       "3  PONTAL DE CAMBURI            0             0         0           0   \n",
       "4    JARDIM DA PENHA            0             1         1           0   \n",
       "\n",
       "   Handcap  SMS_received No-show  WaitingPeriod  \n",
       "0        0             0      No              0  \n",
       "1        0             0      No              0  \n",
       "2        0             0      No              0  \n",
       "3        0             0      No              0  \n",
       "4        0             0      No              0  "
      ]
     },
     "execution_count": 44,
     "metadata": {},
     "output_type": "execute_result"
    }
   ],
   "source": [
    "#calculate the waiting period\n",
    "df_showUp['WaitingPeriod'] =  (df_showUp['AppointmentDay'] - df_showUp['ScheduledDay']).dt.days.astype('int64')\n",
    "df_showUp.head()"
   ]
  },
  {
   "cell_type": "code",
   "execution_count": 45,
   "metadata": {},
   "outputs": [
    {
     "name": "stdout",
     "output_type": "stream",
     "text": [
      "<class 'pandas.core.frame.DataFrame'>\n",
      "Int64Index: 110526 entries, 0 to 110526\n",
      "Data columns (total 15 columns):\n",
      " #   Column          Non-Null Count   Dtype         \n",
      "---  ------          --------------   -----         \n",
      " 0   PatientId       110526 non-null  object        \n",
      " 1   AppointmentID   110526 non-null  int64         \n",
      " 2   Gender          110526 non-null  object        \n",
      " 3   ScheduledDay    110526 non-null  datetime64[ns]\n",
      " 4   AppointmentDay  110526 non-null  datetime64[ns]\n",
      " 5   Age             110526 non-null  int64         \n",
      " 6   Neighbourhood   110526 non-null  object        \n",
      " 7   Scholarship     110526 non-null  int64         \n",
      " 8   Hipertension    110526 non-null  int64         \n",
      " 9   Diabetes        110526 non-null  int64         \n",
      " 10  Alcoholism      110526 non-null  int64         \n",
      " 11  Handcap         110526 non-null  int64         \n",
      " 12  SMS_received    110526 non-null  int64         \n",
      " 13  No-show         110526 non-null  object        \n",
      " 14  WaitingPeriod   110526 non-null  int64         \n",
      "dtypes: datetime64[ns](2), int64(9), object(4)\n",
      "memory usage: 13.5+ MB\n"
     ]
    }
   ],
   "source": [
    "#check for the DataType of WaitingPeriod\n",
    "df_showUp.info()"
   ]
  },
  {
   "cell_type": "code",
   "execution_count": 46,
   "metadata": {},
   "outputs": [
    {
     "data": {
      "text/plain": [
       "array([  0,   2,   3,   1,   4,   9,  29,  10,  23,  11,  18,  17,  14,\n",
       "        28,  24,  21,  15,  16,  22,  43,  30,  31,  42,  32,  56,  45,\n",
       "        46,  39,  37,  38,  44,  50,  60,  52,  53,  65,  67,  91,  66,\n",
       "        84,  78,  87, 115, 109,  63,  70,  72,  57,  58,  51,  59,  41,\n",
       "        49,  73,  64,  20,  33,  34,   6,  35,  36,  12,  13,  40,  47,\n",
       "         8,   5,   7,  25,  26,  48,  27,  19,  61,  55,  62, 176,  54,\n",
       "        77,  69,  83,  76,  89,  81, 103,  79,  68,  75,  85, 112,  -1,\n",
       "        80,  86,  98,  94, 142, 155, 162, 169, 104, 133, 125,  96,  88,\n",
       "        90, 151, 126, 127, 111, 119,  74,  71,  82, 108, 110, 102, 122,\n",
       "       101, 105,  92,  97,  93, 107,  95,  -6, 139, 132, 179, 117, 146,\n",
       "       123], dtype=int64)"
      ]
     },
     "execution_count": 46,
     "metadata": {},
     "output_type": "execute_result"
    }
   ],
   "source": [
    "#check the unique values to explore the wrong value.\n",
    "df_showUp['WaitingPeriod'].unique()"
   ]
  },
  {
   "cell_type": "markdown",
   "metadata": {},
   "source": [
    "There some Waiting period < 0 we need to remove these records."
   ]
  },
  {
   "cell_type": "code",
   "execution_count": 47,
   "metadata": {},
   "outputs": [
    {
     "data": {
      "text/plain": [
       "-1    4\n",
       "-6    1\n",
       "Name: WaitingPeriod, dtype: int64"
      ]
     },
     "execution_count": 47,
     "metadata": {},
     "output_type": "execute_result"
    }
   ],
   "source": [
    "#check to ensure that no more error in WaitingPeriod feature\n",
    "df_showUp[df_showUp['WaitingPeriod'] < 0]['WaitingPeriod'].value_counts()"
   ]
  },
  {
   "cell_type": "code",
   "execution_count": 48,
   "metadata": {},
   "outputs": [],
   "source": [
    "#reomve records with waiting time < 0\n",
    "df_showUp.drop(df_showUp[df_showUp['WaitingPeriod'] < 0].index, axis=0, inplace=True)"
   ]
  },
  {
   "cell_type": "code",
   "execution_count": 49,
   "metadata": {},
   "outputs": [
    {
     "data": {
      "text/plain": [
       "Series([], Name: WaitingPeriod, dtype: int64)"
      ]
     },
     "execution_count": 49,
     "metadata": {},
     "output_type": "execute_result"
    }
   ],
   "source": [
    "#check for the issue of fixed or not\n",
    "df_showUp[df_showUp['WaitingPeriod'] < 0]['WaitingPeriod'].value_counts()"
   ]
  },
  {
   "cell_type": "code",
   "execution_count": 50,
   "metadata": {},
   "outputs": [
    {
     "data": {
      "text/plain": [
       "count    110521.000000\n",
       "mean         10.184345\n",
       "std          15.255153\n",
       "min           0.000000\n",
       "25%           0.000000\n",
       "50%           4.000000\n",
       "75%          15.000000\n",
       "max         179.000000\n",
       "Name: WaitingPeriod, dtype: float64"
      ]
     },
     "execution_count": 50,
     "metadata": {},
     "output_type": "execute_result"
    }
   ],
   "source": [
    "# Describe the WaitingPeriod values\n",
    "df_showUp['WaitingPeriod'].describe()"
   ]
  },
  {
   "cell_type": "markdown",
   "metadata": {},
   "source": [
    "It seems that the average the waiting period is 10, where the min is 0 days, and 75% is 15 days while the max is 179 days"
   ]
  },
  {
   "cell_type": "code",
   "execution_count": 51,
   "metadata": {},
   "outputs": [
    {
     "data": {
      "text/plain": [
       "Text(0.5, 0, 'Waiting_Period')"
      ]
     },
     "execution_count": 51,
     "metadata": {},
     "output_type": "execute_result"
    },
    {
     "data": {
      "image/png": "[encoded data removed]",
      "text/plain": [
       "<Figure size 576x576 with 1 Axes>"
      ]
     },
     "metadata": {
      "needs_background": "light"
     },
     "output_type": "display_data"
    }
   ],
   "source": [
    "# bar plot for How many appointments have the same waiting days \n",
    "W_plot = df_showUp['WaitingPeriod'].hist(figsize=(8,8))\n",
    "plt.title('How many appointments have the same waiting days')\n",
    "W_plot.set_ylabel('Patient_Number')\n",
    "W_plot.set_xlabel('Waiting_Period')"
   ]
  },
  {
   "cell_type": "markdown",
   "metadata": {},
   "source": [
    "The WaitingDays hist skwed to the right."
   ]
  },
  {
   "cell_type": "code",
   "execution_count": 52,
   "metadata": {},
   "outputs": [
    {
     "name": "stdout",
     "output_type": "stream",
     "text": [
      "0      38562\n",
      "2       6725\n",
      "4       5290\n",
      "1       5213\n",
      "7       4906\n",
      "       ...  \n",
      "101        1\n",
      "132        1\n",
      "151        1\n",
      "146        1\n",
      "127        1\n",
      "Name: WaitingPeriod, Length: 129, dtype: int64\n"
     ]
    },
    {
     "data": {
      "text/plain": [
       "Text(0.5, 0, 'Waiting_Period')"
      ]
     },
     "execution_count": 52,
     "metadata": {},
     "output_type": "execute_result"
    },
    {
     "data": {
      "image/png": "[encoded data removed]",
      "text/plain": [
       "<Figure size 1080x1080 with 1 Axes>"
      ]
     },
     "metadata": {
      "needs_background": "light"
     },
     "output_type": "display_data"
    }
   ],
   "source": [
    "#plot for No of patients by awaiting time in days\n",
    "W_count = df_showUp['WaitingPeriod'].value_counts()\n",
    "W_countP = W_count.plot.bar(figsize=(15,15))\n",
    "print(W_count)\n",
    "plt.title(\"No of patients by awaiting time in days\")\n",
    "W_countP.set_ylabel('Patient_Number')\n",
    "W_countP.set_xlabel('Waiting_Period')"
   ]
  },
  {
   "cell_type": "markdown",
   "metadata": {},
   "source": [
    "There is a large conglomeration of appointments in the first days and scarcity of appointments in the latest days, were waiting period for 0 days having 38562 appointments and And it begins to decrease more in the last days to reach one appointment per day."
   ]
  },
  {
   "cell_type": "code",
   "execution_count": 53,
   "metadata": {},
   "outputs": [
    {
     "name": "stdout",
     "output_type": "stream",
     "text": [
      "WaitingPeriod\n",
      "0      38562\n",
      "1       5213\n",
      "2       6725\n",
      "3       2737\n",
      "4       5290\n",
      "       ...  \n",
      "155       10\n",
      "162       11\n",
      "169        8\n",
      "176       16\n",
      "179       10\n",
      "Length: 129, dtype: int64\n",
      "No-show          No    Yes\n",
      "SMS_received              \n",
      "0             62509  12535\n",
      "1             25698   9784\n"
     ]
    },
    {
     "data": {
      "image/png": "[encoded data removed]",
      "text/plain": [
       "<Figure size 576x576 with 1 Axes>"
      ]
     },
     "metadata": {
      "needs_background": "light"
     },
     "output_type": "display_data"
    }
   ],
   "source": [
    "#plot for How many appointments that attended and not, for every waiting days\n",
    "W_groups = df_showUp.groupby(['WaitingPeriod','No-show']).size().unstack(fill_value=0).plot.hist(bins=100,figsize=(8,8))\n",
    "plt.title(\"How many appointments that attended and not, for every waiting days\")\n",
    "W_groups.set_xlabel('Waiting_Period')\n",
    "total = len(df_showUp['No-show'])\n",
    "print(df_showUp.groupby(['WaitingPeriod']).size())\n",
    "print(groups)"
   ]
  },
  {
   "cell_type": "markdown",
   "metadata": {},
   "source": [
    "Out of 38,562 patients, there were 1792 patients about 5% who did not show up."
   ]
  },
  {
   "cell_type": "markdown",
   "metadata": {},
   "source": [
    "### 5- How many appointments are scheduled per day"
   ]
  },
  {
   "cell_type": "code",
   "execution_count": 54,
   "metadata": {},
   "outputs": [
    {
     "data": {
      "text/plain": [
       "Tuesday      26167\n",
       "Wednesday    24259\n",
       "Monday       23084\n",
       "Friday       18915\n",
       "Thursday     18072\n",
       "Saturday        24\n",
       "Name: SDays, dtype: int64"
      ]
     },
     "execution_count": 54,
     "metadata": {},
     "output_type": "execute_result"
    }
   ],
   "source": [
    "#check for the day_name of ScheduledDay\n",
    "df_showUp['SDays'] = df_showUp['ScheduledDay'].dt.day_name()\n",
    "#count how many appointments per Day of week\n",
    "df_showUp['SDays'].value_counts()"
   ]
  },
  {
   "cell_type": "markdown",
   "metadata": {},
   "source": [
    "the appointments for the (Monday, Tuesday, Wednesday) days they kind of equals in distributed while (Friday, Thursday) days they a little bit less than the days before, \"Saturday\"​ with 24 appointments and no appointment for Sunday."
   ]
  },
  {
   "cell_type": "code",
   "execution_count": 55,
   "metadata": {},
   "outputs": [
    {
     "data": {
      "text/plain": [
       "Text(0, 0.5, 'appointment_number')"
      ]
     },
     "execution_count": 55,
     "metadata": {},
     "output_type": "execute_result"
    },
    {
     "data": {
      "image/png": "[encoded data removed]",
      "text/plain": [
       "<Figure size 432x288 with 1 Axes>"
      ]
     },
     "metadata": {
      "needs_background": "light"
     },
     "output_type": "display_data"
    }
   ],
   "source": [
    "#plot for the distribution of appointments per day of week\n",
    "SDays_plot = df_showUp['SDays'].hist()\n",
    "plt.title(\"how many appointments per weekday\")\n",
    "SDays_plot.set_xlabel('Day of Week')\n",
    "SDays_plot.set_ylabel('appointment_number')"
   ]
  },
  {
   "cell_type": "markdown",
   "metadata": {},
   "source": [
    "The distribution of appointments among the weekday is considered kind of well-distributed except 'Saturday'."
   ]
  },
  {
   "cell_type": "markdown",
   "metadata": {},
   "source": [
    "### 6- What factors are important for us to know in order to predict if a patient will show up for their scheduled appointment?"
   ]
  },
  {
   "cell_type": "code",
   "execution_count": 56,
   "metadata": {},
   "outputs": [
    {
     "name": "stdout",
     "output_type": "stream",
     "text": [
      "Scholarship  No-show\n",
      "0            No         72.315669\n",
      "             Yes        17.857240\n",
      "1            No          7.494503\n",
      "             Yes         2.332588\n",
      "dtype: float64\n",
      "Hipertension  No-show\n",
      "0             No         63.497435\n",
      "              Yes        16.776902\n",
      "1             No         16.312737\n",
      "              Yes         3.412926\n",
      "dtype: float64\n",
      "Diabetes  No-show\n",
      "0         No         73.917174\n",
      "          Yes        18.895956\n",
      "1         No          5.892998\n",
      "          Yes         1.293872\n",
      "dtype: float64\n",
      "Alcoholism  No-show\n",
      "0           No         77.382579\n",
      "            Yes        19.577275\n",
      "1           No          2.427593\n",
      "            Yes         0.612553\n",
      "dtype: float64\n",
      "Handcap  No-show\n",
      "0        No         78.150759\n",
      "         Yes        19.823382\n",
      "1        No          1.516454\n",
      "         Yes         0.329349\n",
      "2        No          0.132102\n",
      "         Yes         0.033478\n",
      "3        No          0.009048\n",
      "         Yes         0.002714\n",
      "4        No          0.001810\n",
      "         Yes         0.000905\n",
      "dtype: float64\n",
      "SMS_received  No-show\n",
      "0             No         56.558482\n",
      "              Yes        11.337212\n",
      "1             No         23.251690\n",
      "              Yes         8.852616\n",
      "dtype: float64\n",
      "SDays      No-show\n",
      "Friday     No         13.597416\n",
      "           Yes         3.516979\n",
      "Monday     No         16.759711\n",
      "           Yes         4.126818\n",
      "Saturday   No          0.020811\n",
      "           Yes         0.000905\n",
      "Thursday   No         13.004768\n",
      "           Yes         3.346875\n",
      "Tuesday    No         18.889623\n",
      "           Yes         4.786421\n",
      "Wednesday  No         17.537843\n",
      "           Yes         4.411831\n",
      "dtype: float64\n"
     ]
    }
   ],
   "source": [
    "P_Features = ['Scholarship', 'Hipertension', 'Diabetes', 'Alcoholism', 'Handcap', 'SMS_received','SDays']\n",
    "for i, feature in enumerate(P_Features):\n",
    "    total = len(df_showUp[feature])\n",
    "    size = df_showUp.groupby([feature, 'No-show']).size()\n",
    "    print(size/total*100)"
   ]
  },
  {
   "cell_type": "markdown",
   "metadata": {},
   "source": [
    "It seems that from 15 to 20% are the patients no-show up from all categories."
   ]
  },
  {
   "cell_type": "code",
   "execution_count": 57,
   "metadata": {},
   "outputs": [
    {
     "data": {
      "image/png": "[encoded data removed]",
      "text/plain": [
       "<Figure size 1080x1080 with 7 Axes>"
      ]
     },
     "metadata": {
      "needs_background": "light"
     },
     "output_type": "display_data"
    }
   ],
   "source": [
    "P_Feature = ['Age', 'Scholarship', 'Hipertension', 'Diabetes', 'Alcoholism', 'Handcap', 'SMS_received','SDays']\n",
    "plot = plt.figure(figsize=(15, 15))\n",
    "for i, feature in enumerate(P_Features):\n",
    "    ax = plot.add_subplot(3, 3, i+1)\n",
    "    total = len(df_showUp[feature])\n",
    "    groups = df_showUp.groupby([feature, 'No-show'])[feature].count().unstack('No-show').plot(ax=ax, kind='bar', stacked=True)"
   ]
  },
  {
   "cell_type": "markdown",
   "metadata": {},
   "source": [
    "This bar chart confirms that the number of patients that didn't show up in their scheduled appointment is 20%."
   ]
  },
  {
   "cell_type": "markdown",
   "metadata": {},
   "source": [
    "### 7- Is there more than one appointment for the same patient?"
   ]
  },
  {
   "cell_type": "code",
   "execution_count": 58,
   "metadata": {},
   "outputs": [
    {
     "data": {
      "text/plain": [
       "822145925426128    88\n",
       "99637671331        84\n",
       "26886125921145     70\n",
       "33534783483176     65\n",
       "258424392677       62\n",
       "                   ..\n",
       "79327417418112      1\n",
       "968374793735151     1\n",
       "382568611531        1\n",
       "58261142256755      1\n",
       "2323294785123       1\n",
       "Name: PatientId, Length: 62298, dtype: int64"
      ]
     },
     "execution_count": 58,
     "metadata": {},
     "output_type": "execute_result"
    }
   ],
   "source": [
    "# how many appointments for a single patient\n",
    "df_showUp['PatientId'].value_counts()"
   ]
  },
  {
   "cell_type": "markdown",
   "metadata": {},
   "source": [
    "There are multiple appointments for the same patients, where the number of appointments for the top 5 patients ranges from 88 to 62 appointments, Taking into consideration, that the time range of visits appointed spans over 2 months, an appointment is most likely each examination or each specialist visit."
   ]
  },
  {
   "cell_type": "markdown",
   "metadata": {},
   "source": [
    "<a id='conclusions'></a>\n",
    "## Conclusions\n"
   ]
  },
  {
   "cell_type": "markdown",
   "metadata": {},
   "source": [
    "I have worked with the dataset and fixed a few problems like, removing wrong data, fixed the datatype of the data, adding new features based on existing data. I have also investigated most of the patient features in the dataset and made a few observations comparing them to the  (no_show). "
   ]
  },
  {
   "cell_type": "markdown",
   "metadata": {},
   "source": [
    "-\tthe 'Scheduled Day' started on 2015-11-10 and end on 2016-06-08 .\n",
    "-\tthe 'AppointmentDay' started on 2016-04-29 and end on 2016-06-08 .\n",
    "-\tthe appointments for the (Monday, Tuesday, Wednesday) days they kind of equals in distributed while (Friday, Thursday) days they a little bit less than the days before, \"Saturday\" with 24 appointments and no appointment for Sunday.\n",
    "-\tThe average the waiting period is 10, where the min is 0 days, and 75% is 15 days while the max is 179 days\n",
    "-\tThe top number of patients that scheduled their appointments on the same days is 40,000 patients.\n",
    "-\tOut of 38,562 patients, there were 1792 patients about 5% who did not show up.\n",
    "-\tThere are many young patients but in general, the patient's age is well-distributed and the number of patients goes drastically down for patients older than 60 years.\n",
    "-\tThe Average Age of patients is 37, while the min patients age is 0 'infants',  25% of patients are 18 years old 'teenagers', 75% of patients are 55 years old and the max is about 115.\n",
    "-\tMost of the patients are not alcoholics.\n",
    "-\tMost of the patients are not diabetes but more than alcoholics.\n",
    "-\tThere are four handicapped categories with most of the people not being handicapped.\n",
    "-\tMost patients do not suffer from hypertension.\n",
    "-\tOn average, 20% of appointments were missed.\n",
    "-\tOut of 71839 appointments made by females, 13% of females were missed their appointment.\n",
    "-\tOut of 38687 appointments made by the male, 6% of the male were missed their appointment.\n",
    "-\tThere are multiple appointments for the same patients, where the number of appointments for the top 5 patients ranges from 88 to 62 appointments, Taking into consideration, that the time range of visits appointed spans over 2 months, an appointment is most likely each examination or each specialist visit.\n",
    "-\tThe bar chart of the patient's feature confirms that the number of patients that didn't show up in their scheduled appointment is 20%.\n",
    "-\tThe average the waiting period is 10, where the min is 0 days, and 75% is 15 days while the max is 179 days\n"
   ]
  }
 ],
 "metadata": {
  "kernelspec": {
   "display_name": "Python 3",
   "language": "python",
   "name": "python3"
  },
  "language_info": {
   "codemirror_mode": {
    "name": "ipython",
    "version": 3
   },
   "file_extension": ".py",
   "mimetype": "text/x-python",
   "name": "python",
   "nbconvert_exporter": "python",
   "pygments_lexer": "ipython3",
   "version": "3.7.6"
  }
 },
 "nbformat": 4,
 "nbformat_minor": 2
}
